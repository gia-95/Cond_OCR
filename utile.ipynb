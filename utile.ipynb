{
 "cells": [
  {
   "cell_type": "code",
   "execution_count": 7,
   "metadata": {},
   "outputs": [],
   "source": [
    "import os\n",
    "import utile"
   ]
  },
  {
   "cell_type": "code",
   "execution_count": 8,
   "metadata": {},
   "outputs": [
    {
     "name": "stdout",
     "output_type": "stream",
     "text": [
      "7\n",
      "('dataset/images/img_10.jpg', None, 'mothers-tutors')\n"
     ]
    }
   ],
   "source": [
    "tuple = utile.get_labels_from_file('labels/tuple.txt')\n",
    "print(len(tuple))\n",
    "print(tuple[0])"
   ]
  }
 ],
 "metadata": {
  "kernelspec": {
   "display_name": "py_AutoQuote",
   "language": "python",
   "name": "python3"
  },
  "language_info": {
   "codemirror_mode": {
    "name": "ipython",
    "version": 3
   },
   "file_extension": ".py",
   "mimetype": "text/x-python",
   "name": "python",
   "nbconvert_exporter": "python",
   "pygments_lexer": "ipython3",
   "version": "3.10.6"
  }
 },
 "nbformat": 4,
 "nbformat_minor": 2
}
